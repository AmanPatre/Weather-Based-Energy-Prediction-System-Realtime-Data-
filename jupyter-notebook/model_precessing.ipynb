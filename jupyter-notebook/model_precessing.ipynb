{
 "cells": [
  {
   "cell_type": "code",
   "execution_count": 167,
   "id": "ea75a7b5",
   "metadata": {},
   "outputs": [],
   "source": [
    "import numpy as np\n",
    "import pandas as pd"
   ]
  },
  {
   "cell_type": "code",
   "execution_count": 168,
   "id": "4298b624",
   "metadata": {},
   "outputs": [
    {
     "data": {
      "text/html": [
       "<div>\n",
       "<style scoped>\n",
       "    .dataframe tbody tr th:only-of-type {\n",
       "        vertical-align: middle;\n",
       "    }\n",
       "\n",
       "    .dataframe tbody tr th {\n",
       "        vertical-align: top;\n",
       "    }\n",
       "\n",
       "    .dataframe thead th {\n",
       "        text-align: right;\n",
       "    }\n",
       "</style>\n",
       "<table border=\"1\" class=\"dataframe\">\n",
       "  <thead>\n",
       "    <tr style=\"text-align: right;\">\n",
       "      <th></th>\n",
       "      <th>Source_Type</th>\n",
       "      <th>Solar_Irradiance</th>\n",
       "      <th>Wind_Speed</th>\n",
       "      <th>Ambient_Temperature</th>\n",
       "      <th>Humidity</th>\n",
       "      <th>Cloud_Cover</th>\n",
       "      <th>Panel_Area</th>\n",
       "      <th>Blade_Length</th>\n",
       "      <th>Storage_Capacity</th>\n",
       "      <th>Maintenance_Schedule</th>\n",
       "      <th>Energy_Output_Class</th>\n",
       "    </tr>\n",
       "  </thead>\n",
       "  <tbody>\n",
       "    <tr>\n",
       "      <th>0</th>\n",
       "      <td>Solar</td>\n",
       "      <td>6.22</td>\n",
       "      <td>6.02</td>\n",
       "      <td>36.38</td>\n",
       "      <td>27.27</td>\n",
       "      <td>93.16</td>\n",
       "      <td>124.76</td>\n",
       "      <td>56.50</td>\n",
       "      <td>4312.36</td>\n",
       "      <td>230.0</td>\n",
       "      <td>Low</td>\n",
       "    </tr>\n",
       "    <tr>\n",
       "      <th>1</th>\n",
       "      <td>Solar</td>\n",
       "      <td>5.59</td>\n",
       "      <td>21.93</td>\n",
       "      <td>31.06</td>\n",
       "      <td>77.73</td>\n",
       "      <td>73.69</td>\n",
       "      <td>198.22</td>\n",
       "      <td>60.42</td>\n",
       "      <td>1057.31</td>\n",
       "      <td>184.0</td>\n",
       "      <td>Moderate</td>\n",
       "    </tr>\n",
       "    <tr>\n",
       "      <th>2</th>\n",
       "      <td>Wind</td>\n",
       "      <td>4.94</td>\n",
       "      <td>9.88</td>\n",
       "      <td>1.24</td>\n",
       "      <td>43.18</td>\n",
       "      <td>69.40</td>\n",
       "      <td>60.41</td>\n",
       "      <td>37.50</td>\n",
       "      <td>9781.32</td>\n",
       "      <td>196.0</td>\n",
       "      <td>High</td>\n",
       "    </tr>\n",
       "    <tr>\n",
       "      <th>3</th>\n",
       "      <td>Solar</td>\n",
       "      <td>2.19</td>\n",
       "      <td>11.66</td>\n",
       "      <td>33.71</td>\n",
       "      <td>12.89</td>\n",
       "      <td>33.68</td>\n",
       "      <td>21.84</td>\n",
       "      <td>47.44</td>\n",
       "      <td>5168.17</td>\n",
       "      <td>9.0</td>\n",
       "      <td>Moderate</td>\n",
       "    </tr>\n",
       "    <tr>\n",
       "      <th>4</th>\n",
       "      <td>Wind</td>\n",
       "      <td>5.75</td>\n",
       "      <td>21.52</td>\n",
       "      <td>3.17</td>\n",
       "      <td>35.71</td>\n",
       "      <td>10.40</td>\n",
       "      <td>16.10</td>\n",
       "      <td>44.74</td>\n",
       "      <td>6331.84</td>\n",
       "      <td>93.0</td>\n",
       "      <td>Low</td>\n",
       "    </tr>\n",
       "  </tbody>\n",
       "</table>\n",
       "</div>"
      ],
      "text/plain": [
       "  Source_Type  Solar_Irradiance  Wind_Speed  Ambient_Temperature  Humidity  \\\n",
       "0       Solar              6.22        6.02                36.38     27.27   \n",
       "1       Solar              5.59       21.93                31.06     77.73   \n",
       "2        Wind              4.94        9.88                 1.24     43.18   \n",
       "3       Solar              2.19       11.66                33.71     12.89   \n",
       "4        Wind              5.75       21.52                 3.17     35.71   \n",
       "\n",
       "   Cloud_Cover  Panel_Area  Blade_Length  Storage_Capacity  \\\n",
       "0        93.16      124.76         56.50           4312.36   \n",
       "1        73.69      198.22         60.42           1057.31   \n",
       "2        69.40       60.41         37.50           9781.32   \n",
       "3        33.68       21.84         47.44           5168.17   \n",
       "4        10.40       16.10         44.74           6331.84   \n",
       "\n",
       "   Maintenance_Schedule Energy_Output_Class  \n",
       "0                 230.0                 Low  \n",
       "1                 184.0            Moderate  \n",
       "2                 196.0                High  \n",
       "3                   9.0            Moderate  \n",
       "4                  93.0                 Low  "
      ]
     },
     "execution_count": 168,
     "metadata": {},
     "output_type": "execute_result"
    }
   ],
   "source": [
    "df=pd.read_csv(\"E:/weather-prediction-model/Data/weather_last_year_data .csv\")\n",
    "df.head()\n"
   ]
  },
  {
   "cell_type": "code",
   "execution_count": 169,
   "id": "cd22418d",
   "metadata": {},
   "outputs": [
    {
     "name": "stdout",
     "output_type": "stream",
     "text": [
      "<class 'pandas.core.frame.DataFrame'>\n",
      "RangeIndex: 1000 entries, 0 to 999\n",
      "Data columns (total 11 columns):\n",
      " #   Column                Non-Null Count  Dtype  \n",
      "---  ------                --------------  -----  \n",
      " 0   Source_Type           1000 non-null   object \n",
      " 1   Solar_Irradiance      1000 non-null   float64\n",
      " 2   Wind_Speed            1000 non-null   float64\n",
      " 3   Ambient_Temperature   1000 non-null   float64\n",
      " 4   Humidity              1000 non-null   float64\n",
      " 5   Cloud_Cover           1000 non-null   float64\n",
      " 6   Panel_Area            1000 non-null   float64\n",
      " 7   Blade_Length          1000 non-null   float64\n",
      " 8   Storage_Capacity      1000 non-null   float64\n",
      " 9   Maintenance_Schedule  1000 non-null   float64\n",
      " 10  Energy_Output_Class   1000 non-null   object \n",
      "dtypes: float64(9), object(2)\n",
      "memory usage: 86.1+ KB\n",
      "None\n",
      "       Solar_Irradiance   Wind_Speed  Ambient_Temperature     Humidity  \\\n",
      "count       1000.000000  1000.000000          1000.000000  1000.000000   \n",
      "mean           4.986120    12.433440            15.116410    50.173990   \n",
      "std            1.717439     7.248279            14.347877    23.082741   \n",
      "min            2.010000     0.030000            -9.990000    10.050000   \n",
      "25%            3.550000     6.340000             2.615000    30.307500   \n",
      "50%            4.970000    12.365000            15.755000    50.180000   \n",
      "75%            6.392500    18.702500            27.425000    69.740000   \n",
      "max            8.000000    24.980000            39.950000    89.990000   \n",
      "\n",
      "       Cloud_Cover   Panel_Area  Blade_Length  Storage_Capacity  \\\n",
      "count   1000.00000  1000.000000   1000.000000       1000.000000   \n",
      "mean      50.45123   103.973400     50.249940       4830.734520   \n",
      "std       28.40863    54.305303     16.951897       2853.965883   \n",
      "min        0.02000    10.640000     20.010000        104.190000   \n",
      "25%       25.75000    57.680000     35.957500       2257.455000   \n",
      "50%       51.07000   101.745000     50.420000       4863.110000   \n",
      "75%       74.26500   147.837500     64.750000       7212.760000   \n",
      "max       99.99000   199.670000     79.810000       9987.360000   \n",
      "\n",
      "       Maintenance_Schedule  \n",
      "count           1000.000000  \n",
      "mean             180.350000  \n",
      "std              106.566796  \n",
      "min                0.000000  \n",
      "25%               89.000000  \n",
      "50%              179.500000  \n",
      "75%              274.000000  \n",
      "max              365.000000  \n"
     ]
    }
   ],
   "source": [
    "print(df.info())\n",
    "print(df.describe())\n"
   ]
  },
  {
   "cell_type": "markdown",
   "id": "d73651a4",
   "metadata": {},
   "source": [
    "Remove Irrelevant or Redundant Columns\n",
    "Panel_Area \n",
    "Blade_Length "
   ]
  },
  {
   "cell_type": "code",
   "execution_count": 170,
   "id": "339355f7",
   "metadata": {},
   "outputs": [],
   "source": [
    "if \"Panel_Area\"  in df.columns:\n",
    "    df.drop(columns=[\"Panel_Area\"], inplace=True)\n",
    "if \"Blade_Length\"  in df.columns:\n",
    "  df.drop(columns=[\"Blade_Length\"], inplace=True)\n",
    "\n",
    "if \"Source_Type\"  in df.columns:\n",
    "  df.drop(columns=[\"Source_Type\"], inplace=True)\n",
    "  \n",
    "if \"Energy_Output_Class\"  in df.columns:\n",
    "  df.drop(columns=[\"Energy_Output_Class\"], inplace=True) \n",
    "\n",
    "if \"Solar_Irradiance\"  in df.columns:\n",
    "  df.drop(columns=[\"Solar_Irradiance\"], inplace=True)    \n",
    "  \n",
    "if \"Maintenance_Schedule\"  in df.columns:\n",
    "  df.drop(columns=[\"Maintenance_Schedule\"], inplace=True)    \n",
    "\n",
    "if \"Storage_Capacity\"  in df.columns:\n",
    "  df.drop(columns=[\"Storage_Capacity\"], inplace=True)     \n",
    "\n",
    "\n",
    "\n"
   ]
  },
  {
   "cell_type": "code",
   "execution_count": 171,
   "id": "2df86f60",
   "metadata": {},
   "outputs": [
    {
     "data": {
      "text/plain": [
       "Index(['Wind_Speed', 'Ambient_Temperature', 'Humidity', 'Cloud_Cover'], dtype='object')"
      ]
     },
     "execution_count": 171,
     "metadata": {},
     "output_type": "execute_result"
    }
   ],
   "source": [
    "df.columns"
   ]
  },
  {
   "cell_type": "code",
   "execution_count": 172,
   "id": "9162c5c3",
   "metadata": {},
   "outputs": [
    {
     "data": {
      "text/html": [
       "<div>\n",
       "<style scoped>\n",
       "    .dataframe tbody tr th:only-of-type {\n",
       "        vertical-align: middle;\n",
       "    }\n",
       "\n",
       "    .dataframe tbody tr th {\n",
       "        vertical-align: top;\n",
       "    }\n",
       "\n",
       "    .dataframe thead th {\n",
       "        text-align: right;\n",
       "    }\n",
       "</style>\n",
       "<table border=\"1\" class=\"dataframe\">\n",
       "  <thead>\n",
       "    <tr style=\"text-align: right;\">\n",
       "      <th></th>\n",
       "      <th>Wind_Speed</th>\n",
       "      <th>Ambient_Temperature</th>\n",
       "      <th>Humidity</th>\n",
       "      <th>Cloud_Cover</th>\n",
       "    </tr>\n",
       "  </thead>\n",
       "  <tbody>\n",
       "    <tr>\n",
       "      <th>0</th>\n",
       "      <td>6.02</td>\n",
       "      <td>36.38</td>\n",
       "      <td>27.27</td>\n",
       "      <td>93.16</td>\n",
       "    </tr>\n",
       "    <tr>\n",
       "      <th>1</th>\n",
       "      <td>21.93</td>\n",
       "      <td>31.06</td>\n",
       "      <td>77.73</td>\n",
       "      <td>73.69</td>\n",
       "    </tr>\n",
       "    <tr>\n",
       "      <th>2</th>\n",
       "      <td>9.88</td>\n",
       "      <td>1.24</td>\n",
       "      <td>43.18</td>\n",
       "      <td>69.40</td>\n",
       "    </tr>\n",
       "    <tr>\n",
       "      <th>3</th>\n",
       "      <td>11.66</td>\n",
       "      <td>33.71</td>\n",
       "      <td>12.89</td>\n",
       "      <td>33.68</td>\n",
       "    </tr>\n",
       "    <tr>\n",
       "      <th>4</th>\n",
       "      <td>21.52</td>\n",
       "      <td>3.17</td>\n",
       "      <td>35.71</td>\n",
       "      <td>10.40</td>\n",
       "    </tr>\n",
       "  </tbody>\n",
       "</table>\n",
       "</div>"
      ],
      "text/plain": [
       "   Wind_Speed  Ambient_Temperature  Humidity  Cloud_Cover\n",
       "0        6.02                36.38     27.27        93.16\n",
       "1       21.93                31.06     77.73        73.69\n",
       "2        9.88                 1.24     43.18        69.40\n",
       "3       11.66                33.71     12.89        33.68\n",
       "4       21.52                 3.17     35.71        10.40"
      ]
     },
     "execution_count": 172,
     "metadata": {},
     "output_type": "execute_result"
    }
   ],
   "source": [
    "df.head()"
   ]
  },
  {
   "cell_type": "markdown",
   "id": "625b44f4",
   "metadata": {},
   "source": [
    "Check for Missing Values"
   ]
  },
  {
   "cell_type": "code",
   "execution_count": 173,
   "id": "49d3b5f9",
   "metadata": {},
   "outputs": [
    {
     "name": "stdout",
     "output_type": "stream",
     "text": [
      "Wind_Speed             0\n",
      "Ambient_Temperature    0\n",
      "Humidity               0\n",
      "Cloud_Cover            0\n",
      "dtype: int64\n"
     ]
    }
   ],
   "source": [
    "# checking NULL Value\n",
    "print(df.isnull().sum())"
   ]
  },
  {
   "cell_type": "markdown",
   "id": "ba8cf01b",
   "metadata": {},
   "source": [
    " Correlation Analysis by using seabon and Matplotlib"
   ]
  },
  {
   "cell_type": "code",
   "execution_count": 174,
   "id": "bd49c47d",
   "metadata": {},
   "outputs": [
    {
     "data": {
      "image/png": "[encoded data removed]",
      "text/plain": [
       "<Figure size 1200x800 with 2 Axes>"
      ]
     },
     "metadata": {},
     "output_type": "display_data"
    }
   ],
   "source": [
    "import seaborn as sns\n",
    "import matplotlib.pyplot as plt\n",
    "\n",
    "plt.figure(figsize=(12, 8))\n",
    "sns.heatmap(df.corr(), annot=True, cmap='coolwarm')\n",
    "plt.title(\"Correlation Heatmap\")\n",
    "plt.show()"
   ]
  },
  {
   "cell_type": "markdown",
   "id": "b6205773",
   "metadata": {},
   "source": []
  },
  {
   "cell_type": "code",
   "execution_count": 175,
   "id": "783087cb",
   "metadata": {},
   "outputs": [
    {
     "data": {
      "image/png": "[encoded data removed]",
      "text/plain": [
       "<Figure size 640x480 with 1 Axes>"
      ]
     },
     "metadata": {},
     "output_type": "display_data"
    }
   ],
   "source": [
    "sns.histplot(df[\"Ambient_Temperature\"], bins=20, kde=True)\n",
    "plt.title(\"Temperature Distribution\")\n",
    "plt.show()"
   ]
  },
  {
   "cell_type": "code",
   "execution_count": 176,
   "id": "4360fb81",
   "metadata": {},
   "outputs": [],
   "source": [
    "# Data Preprocessing of realtme csv"
   ]
  },
  {
   "cell_type": "code",
   "execution_count": 177,
   "id": "ce3e8633",
   "metadata": {},
   "outputs": [
    {
     "data": {
      "text/html": [
       "<div>\n",
       "<style scoped>\n",
       "    .dataframe tbody tr th:only-of-type {\n",
       "        vertical-align: middle;\n",
       "    }\n",
       "\n",
       "    .dataframe tbody tr th {\n",
       "        vertical-align: top;\n",
       "    }\n",
       "\n",
       "    .dataframe thead th {\n",
       "        text-align: right;\n",
       "    }\n",
       "</style>\n",
       "<table border=\"1\" class=\"dataframe\">\n",
       "  <thead>\n",
       "    <tr style=\"text-align: right;\">\n",
       "      <th></th>\n",
       "      <th>Date/Time</th>\n",
       "      <th>Ambient_Temperature</th>\n",
       "      <th>Wind_Speed</th>\n",
       "      <th>Cloud_Cover</th>\n",
       "      <th>Humidity</th>\n",
       "    </tr>\n",
       "  </thead>\n",
       "  <tbody>\n",
       "    <tr>\n",
       "      <th>0</th>\n",
       "      <td>2025-09-02T00:00</td>\n",
       "      <td>23.6</td>\n",
       "      <td>6.6</td>\n",
       "      <td>100</td>\n",
       "      <td>94</td>\n",
       "    </tr>\n",
       "    <tr>\n",
       "      <th>1</th>\n",
       "      <td>2025-09-02T01:00</td>\n",
       "      <td>23.5</td>\n",
       "      <td>5.9</td>\n",
       "      <td>100</td>\n",
       "      <td>94</td>\n",
       "    </tr>\n",
       "    <tr>\n",
       "      <th>2</th>\n",
       "      <td>2025-09-02T02:00</td>\n",
       "      <td>23.4</td>\n",
       "      <td>5.4</td>\n",
       "      <td>100</td>\n",
       "      <td>95</td>\n",
       "    </tr>\n",
       "    <tr>\n",
       "      <th>3</th>\n",
       "      <td>2025-09-02T03:00</td>\n",
       "      <td>23.3</td>\n",
       "      <td>5.7</td>\n",
       "      <td>100</td>\n",
       "      <td>95</td>\n",
       "    </tr>\n",
       "    <tr>\n",
       "      <th>4</th>\n",
       "      <td>2025-09-02T04:00</td>\n",
       "      <td>23.2</td>\n",
       "      <td>7.3</td>\n",
       "      <td>100</td>\n",
       "      <td>94</td>\n",
       "    </tr>\n",
       "  </tbody>\n",
       "</table>\n",
       "</div>"
      ],
      "text/plain": [
       "          Date/Time  Ambient_Temperature  Wind_Speed  Cloud_Cover  Humidity\n",
       "0  2025-09-02T00:00                 23.6         6.6          100        94\n",
       "1  2025-09-02T01:00                 23.5         5.9          100        94\n",
       "2  2025-09-02T02:00                 23.4         5.4          100        95\n",
       "3  2025-09-02T03:00                 23.3         5.7          100        95\n",
       "4  2025-09-02T04:00                 23.2         7.3          100        94"
      ]
     },
     "execution_count": 177,
     "metadata": {},
     "output_type": "execute_result"
    }
   ],
   "source": [
    "realtime=pd.read_csv(\"E:/weather-prediction-model/Data/realtime.csv\")\n",
    "realtime.head()"
   ]
  },
  {
   "cell_type": "code",
   "execution_count": 178,
   "id": "6c64da8b",
   "metadata": {},
   "outputs": [
    {
     "name": "stdout",
     "output_type": "stream",
     "text": [
      "Wind_Speed             0\n",
      "Ambient_Temperature    0\n",
      "Humidity               0\n",
      "Cloud_Cover            0\n",
      "dtype: int64\n"
     ]
    }
   ],
   "source": [
    "print(df.isnull().sum())"
   ]
  },
  {
   "cell_type": "markdown",
   "id": "d827693c",
   "metadata": {},
   "source": [
    "# Read the CSV files\n",
    "df = pd.read_csv('E:/weather-prediction-model/Data/weather_last_year_data.csv')\n",
    "realtime = pd.read_csv('E:/weather-prediction-model/Data/realtime.csv')"
   ]
  },
  {
   "cell_type": "code",
   "execution_count": 179,
   "id": "dc801457",
   "metadata": {},
   "outputs": [
    {
     "name": "stdout",
     "output_type": "stream",
     "text": [
      "Old Data: ['Wind_Speed', 'Ambient_Temperature', 'Humidity', 'Cloud_Cover']\n",
      "Realtime Data: ['Date/Time', 'Ambient_Temperature', 'Wind_Speed', 'Cloud_Cover', 'Humidity']\n"
     ]
    }
   ],
   "source": [
    "# Display the first few rows to see column names\n",
    "print(\"Old Data:\", df.columns.tolist())\n",
    "print(\"Realtime Data:\", realtime.columns.tolist())"
   ]
  },
  {
   "cell_type": "code",
   "execution_count": 180,
   "id": "46ef478a",
   "metadata": {},
   "outputs": [
    {
     "name": "stdout",
     "output_type": "stream",
     "text": [
      "        Wind_Speed  Ambient_Temperature     Humidity  Cloud_Cover\n",
      "count  1000.000000          1000.000000  1000.000000   1000.00000\n",
      "mean     12.433440            15.116410    50.173990     50.45123\n",
      "std       7.248279            14.347877    23.082741     28.40863\n",
      "min       0.030000            -9.990000    10.050000      0.02000\n",
      "25%       6.340000             2.615000    30.307500     25.75000\n",
      "50%      12.365000            15.755000    50.180000     51.07000\n",
      "75%      18.702500            27.425000    69.740000     74.26500\n",
      "max      24.980000            39.950000    89.990000     99.99000\n"
     ]
    }
   ],
   "source": [
    "# Generate statistical summary\n",
    "print(df.describe())"
   ]
  },
  {
   "cell_type": "code",
   "execution_count": 181,
   "id": "0e8d8517",
   "metadata": {},
   "outputs": [],
   "source": [
    "import matplotlib.pyplot as plt\n",
    "import pandas as pd\n"
   ]
  },
  {
   "cell_type": "markdown",
   "id": "e3fcd73b",
   "metadata": {},
   "source": [
    "\n",
    "# Display basic information about the data"
   ]
  },
  {
   "cell_type": "code",
   "execution_count": 182,
   "id": "f8da835e",
   "metadata": {},
   "outputs": [
    {
     "name": "stdout",
     "output_type": "stream",
     "text": [
      "=== DATA INFO ===\n",
      "<class 'pandas.core.frame.DataFrame'>\n",
      "RangeIndex: 24 entries, 0 to 23\n",
      "Data columns (total 5 columns):\n",
      " #   Column               Non-Null Count  Dtype  \n",
      "---  ------               --------------  -----  \n",
      " 0   Date/Time            24 non-null     object \n",
      " 1   Ambient_Temperature  24 non-null     float64\n",
      " 2   Wind_Speed           24 non-null     float64\n",
      " 3   Cloud_Cover          24 non-null     int64  \n",
      " 4   Humidity             24 non-null     int64  \n",
      "dtypes: float64(2), int64(2), object(1)\n",
      "memory usage: 1.1+ KB\n",
      "None\n",
      "\n",
      "=== FIRST 5 ROWS ===\n",
      "          Date/Time  Ambient_Temperature  Wind_Speed  Cloud_Cover  Humidity\n",
      "0  2025-09-02T00:00                 23.6         6.6          100        94\n",
      "1  2025-09-02T01:00                 23.5         5.9          100        94\n",
      "2  2025-09-02T02:00                 23.4         5.4          100        95\n",
      "3  2025-09-02T03:00                 23.3         5.7          100        95\n",
      "4  2025-09-02T04:00                 23.2         7.3          100        94\n",
      "\n",
      "=== BASIC STATISTICS ===\n",
      "       Ambient_Temperature  Wind_Speed  Cloud_Cover   Humidity\n",
      "count            24.000000   24.000000    24.000000  24.000000\n",
      "mean             25.208333    5.829167    99.500000  88.916667\n",
      "std               1.848129    1.471609     1.063219   7.076702\n",
      "min              23.100000    2.800000    97.000000  75.000000\n",
      "25%              23.500000    5.175000   100.000000  83.000000\n",
      "50%              24.850000    5.800000   100.000000  92.500000\n",
      "75%              26.900000    6.750000   100.000000  94.250000\n",
      "max              28.500000    8.800000   100.000000  95.000000\n"
     ]
    }
   ],
   "source": [
    "print(\"=== DATA INFO ===\")\n",
    "print(realtime.info())\n",
    "print(\"\\n=== FIRST 5 ROWS ===\")\n",
    "print(realtime.head())\n",
    "print(\"\\n=== BASIC STATISTICS ===\")\n",
    "print(realtime.describe())"
   ]
  },
  {
   "cell_type": "markdown",
   "id": "e29f534c",
   "metadata": {},
   "source": [
    "# Convert Date/Time to datetime and extract hour\n"
   ]
  },
  {
   "cell_type": "code",
   "execution_count": 183,
   "id": "cc4875c4",
   "metadata": {},
   "outputs": [],
   "source": [
    "realtime['Date/Time'] = pd.to_datetime(realtime['Date/Time'])\n",
    "realtime['Hour'] = realtime['Date/Time'].dt.hour\n"
   ]
  },
  {
   "cell_type": "markdown",
   "id": "1de381bf",
   "metadata": {},
   "source": [
    "merging of old and realtime csv and save into Data folder"
   ]
  },
  {
   "cell_type": "code",
   "execution_count": 184,
   "id": "2ee9f9ec",
   "metadata": {},
   "outputs": [
    {
     "name": "stdout",
     "output_type": "stream",
     "text": [
      "✅ Merged file saved to E:/weather-prediction-model/Data/merged.csv\n"
     ]
    },
    {
     "data": {
      "text/html": [
       "<div>\n",
       "<style scoped>\n",
       "    .dataframe tbody tr th:only-of-type {\n",
       "        vertical-align: middle;\n",
       "    }\n",
       "\n",
       "    .dataframe tbody tr th {\n",
       "        vertical-align: top;\n",
       "    }\n",
       "\n",
       "    .dataframe thead th {\n",
       "        text-align: right;\n",
       "    }\n",
       "</style>\n",
       "<table border=\"1\" class=\"dataframe\">\n",
       "  <thead>\n",
       "    <tr style=\"text-align: right;\">\n",
       "      <th></th>\n",
       "      <th>Date/Time</th>\n",
       "      <th>Ambient_Temperature</th>\n",
       "      <th>Wind_Speed</th>\n",
       "      <th>Cloud_Cover</th>\n",
       "      <th>Humidity</th>\n",
       "      <th>Hour</th>\n",
       "    </tr>\n",
       "  </thead>\n",
       "  <tbody>\n",
       "    <tr>\n",
       "      <th>24</th>\n",
       "      <td>2025-09-02 00:00:00</td>\n",
       "      <td>23.6</td>\n",
       "      <td>6.6</td>\n",
       "      <td>100</td>\n",
       "      <td>94</td>\n",
       "      <td>0</td>\n",
       "    </tr>\n",
       "    <tr>\n",
       "      <th>25</th>\n",
       "      <td>2025-09-02 01:00:00</td>\n",
       "      <td>23.5</td>\n",
       "      <td>5.9</td>\n",
       "      <td>100</td>\n",
       "      <td>94</td>\n",
       "      <td>1</td>\n",
       "    </tr>\n",
       "    <tr>\n",
       "      <th>26</th>\n",
       "      <td>2025-09-02 02:00:00</td>\n",
       "      <td>23.4</td>\n",
       "      <td>5.4</td>\n",
       "      <td>100</td>\n",
       "      <td>95</td>\n",
       "      <td>2</td>\n",
       "    </tr>\n",
       "    <tr>\n",
       "      <th>27</th>\n",
       "      <td>2025-09-02 03:00:00</td>\n",
       "      <td>23.3</td>\n",
       "      <td>5.7</td>\n",
       "      <td>100</td>\n",
       "      <td>95</td>\n",
       "      <td>3</td>\n",
       "    </tr>\n",
       "    <tr>\n",
       "      <th>28</th>\n",
       "      <td>2025-09-02 04:00:00</td>\n",
       "      <td>23.2</td>\n",
       "      <td>7.3</td>\n",
       "      <td>100</td>\n",
       "      <td>94</td>\n",
       "      <td>4</td>\n",
       "    </tr>\n",
       "  </tbody>\n",
       "</table>\n",
       "</div>"
      ],
      "text/plain": [
       "             Date/Time  Ambient_Temperature  Wind_Speed  Cloud_Cover  \\\n",
       "24 2025-09-02 00:00:00                 23.6         6.6          100   \n",
       "25 2025-09-02 01:00:00                 23.5         5.9          100   \n",
       "26 2025-09-02 02:00:00                 23.4         5.4          100   \n",
       "27 2025-09-02 03:00:00                 23.3         5.7          100   \n",
       "28 2025-09-02 04:00:00                 23.2         7.3          100   \n",
       "\n",
       "    Humidity  Hour  \n",
       "24        94     0  \n",
       "25        94     1  \n",
       "26        95     2  \n",
       "27        95     3  \n",
       "28        94     4  "
      ]
     },
     "execution_count": 184,
     "metadata": {},
     "output_type": "execute_result"
    }
   ],
   "source": [
    "import pandas as pd\n",
    "import os\n",
    "folder_path=\"E:/weather-prediction-model/Data\"\n",
    "\n",
    "# Ensure Data folder exists\n",
    "os.makedirs(folder_path, exist_ok=True)\n",
    "\n",
    "\n",
    "\n",
    "# Load both CSVs\n",
    "# df_last_year = pd.read_csv(last_year_file)\n",
    "# df_realtime = pd.read_csv(realtime_file)\n",
    "\n",
    "\n",
    "\n",
    "\n",
    "# Ensure 'Date/Time' column exists\n",
    "for df in [df, realtime]:\n",
    "    if \"Date/Time\" not in df.columns:\n",
    "        df.insert(0, \"Date/Time\", pd.NaT)\n",
    "    # Convert to datetime\n",
    "    df['Date/Time'] = pd.to_datetime(df['Date/Time'], errors='coerce')\n",
    "\n",
    "# Define expected columns\n",
    "expected_cols = ['Date/Time', 'Ambient_Temperature', 'Wind_Speed', 'Cloud_Cover', 'Humidity']\n",
    "\n",
    "# Reorder columns to match expected (for both DataFrames)\n",
    "df_last_year = df[[col for col in expected_cols if col in df.columns]]\n",
    "df_realtime = realtime[[col for col in expected_cols if col in realtime.columns]]\n",
    "\n",
    "# Merge the two DataFrames\n",
    "df_merged = pd.concat([df, realtime], ignore_index=True)\n",
    "\n",
    "# Remove duplicates based on 'Date/Time' (keep latest)\n",
    "df_merged.drop_duplicates(subset=['Date/Time'], keep='last', inplace=True)\n",
    "\n",
    "# Sort by 'Date/Time'\n",
    "df_merged.sort_values(by='Date/Time', inplace=True)\n",
    "\n",
    "merged_file=\"E:/weather-prediction-model/Data/merged.csv\"\n",
    "# Save merged file\n",
    "df_merged.to_csv(merged_file, index=False)\n",
    "\n",
    "print(f\"✅ Merged file saved to {merged_file}\")\n",
    "\n",
    "# Preview\n",
    "df_merged.head()\n"
   ]
  }
 ],
 "metadata": {
  "kernelspec": {
   "display_name": "Python 3",
   "language": "python",
   "name": "python3"
  },
  "language_info": {
   "codemirror_mode": {
    "name": "ipython",
    "version": 3
   },
   "file_extension": ".py",
   "mimetype": "text/x-python",
   "name": "python",
   "nbconvert_exporter": "python",
   "pygments_lexer": "ipython3",
   "version": "3.12.6"
  }
 },
 "nbformat": 4,
 "nbformat_minor": 5
}
